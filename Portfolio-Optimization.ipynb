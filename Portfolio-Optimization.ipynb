{
 "cells": [
  {
   "cell_type": "markdown",
   "metadata": {},
   "source": [
    "**Foreword**<br><br>\n",
    "Scipy can do the optimization. Numpy can find out the metrics we need.<br>\n",
    "<br>\n",
    "All we need to do is to understand and derive Portfolio Variance & Sharpe Ratio.<br>"
   ]
  },
  {
   "cell_type": "markdown",
   "metadata": {},
   "source": [
    "**Portfolio Variance**"
   ]
  },
  {
   "cell_type": "markdown",
   "metadata": {},
   "source": [
    "First, we consider a single stock portfolio.<br>\n",
    "<br>\n",
    "&emsp;&emsp;&emsp;&emsp;&emsp;&emsp;&emsp;$Var(x) = \\frac{1}{n} \\sum \\limits _{i=1} ^{n}(x _i- \\bar{x})^2$<br>\n",
    "<br>\n",
    "&emsp;&emsp;&emsp;&emsp;&emsp;&emsp;&emsp;&emsp;&emsp;&emsp;&emsp;&ensp;&nbsp;$ = E[x-E(x)]^2$, statiscally speaking.<br>\n",
    "<br>\n",
    "In short, it measures how far the data points deviates from its mean.<br>\n",
    "If we apply this concept to stock price, the higher the variance, the more fluctuated the price.<br>\n",
    "<br>\n",
    "When it comes to variance of 2 variables, covariance should be taken in to considerataion.<br>\n",
    "<br>\n",
    "&emsp;&emsp;&emsp;&emsp;&emsp;&emsp;&emsp;$ Var(x+y) = E[(x+y)-E(x+y)]^2 $ <br>\n",
    "&emsp;&emsp;&emsp;&emsp;&emsp;&emsp;&emsp;&emsp;&emsp;&emsp;&emsp;&emsp;&emsp;&emsp;$= E[[(x-E(x)] + [y-E(y)]]^2$<br>\n",
    "&emsp;&emsp;&emsp;&emsp;&emsp;&emsp;&emsp;&emsp;&emsp;&emsp;&emsp;&emsp;&emsp;&emsp;$= E[x-E(x)]^2 + E[y-E(y)]^2 + 2E[x-E(x)]E[y-E(y)]$<br>\n",
    "&emsp;&emsp;&emsp;&emsp;&emsp;&emsp;&emsp;&emsp;&emsp;&emsp;&emsp;&emsp;&emsp;&emsp;$= Var(x) + Var(y) + 2cov(x,y)$<br>\n",
    "<br>\n",
    "In stock allocation analysis, stock prices should be adjusted to the same scale.<br>\n",
    "Therefore, we use daily return $r$ derived from time series of stock price.<br>\n",
    "Also, the return should be multiplied by a weight factor $w$.<br>\n",
    "Then the portfolio variance can be derived as follows.<br>\n",
    "<br>\n",
    "&emsp;&emsp;&emsp;&emsp;&emsp;&emsp;&emsp;$ Var(Portfolio) = Var(w^T r) $&emsp;where $w$ is the column vector of stock's weight<br>\n",
    "&emsp;&emsp;&emsp;&emsp;&emsp;&emsp;&emsp;&emsp;&emsp;&emsp;&emsp;&emsp;&emsp;&emsp;&emsp;&emsp;&ensp;&ensp;$=w^T \\Sigma  w$ &emsp;&ensp;&nbsp;where $\\Sigma $ is the covariance matrix of $r$"
   ]
  },
  {
   "cell_type": "markdown",
   "metadata": {},
   "source": [
    "**Sharpe Ratio**"
   ]
  },
  {
   "cell_type": "markdown",
   "metadata": {},
   "source": [
    "It is defined as follws.<br>\n",
    "The excess portfolio return over risk free rate per unit of variance taken.<br>\n",
    "The higher the Sharpe, the better the performance.<br>\n",
    "<br>\n",
    "&emsp;&emsp;&emsp;&emsp;&emsp;&emsp;&emsp;$ [E(w^T r)  -  r _f]$&ensp; / &ensp;$Var(w^T r) $ &emsp;&ensp;&nbsp;where  $r$ is the column vector of expected returns $E[w^T r]$ is portfolio return <br>\n",
    "<br>\n",
    "Now we need to optimize $w$, given $\\Sigma$ and $E[r]$, which are derived from raw  stock data."
   ]
  },
  {
   "cell_type": "markdown",
   "metadata": {},
   "source": [
    "**Load stock data**"
   ]
  },
  {
   "cell_type": "code",
   "execution_count": 2,
   "metadata": {},
   "outputs": [],
   "source": [
    "import seaborn as sb\n",
    "import matplotlib.pyplot as plt\n",
    "from datetime import datetime, timedelta\n",
    "import yfinance as yf  \n",
    "import numpy as np\n",
    "import pandas as pd\n",
    "from scipy import optimize\n",
    "\n",
    "# get data n years from today\n",
    "def get_price(portfolio,n):\n",
    "    t_0 = datetime.today() - timedelta(365*n)\n",
    "    return yf.download(portfolio,start=t_0)['Adj Close'][portfolio].to_numpy()\n",
    "    # convert adj_close_price to a matrix, [portfolio] sorts column according to sequence in [portfolio]"
   ]
  },
  {
   "cell_type": "markdown",
   "metadata": {},
   "source": [
    "**Get metrics from raw data and construct Portfolio Return and Variance**<br>\n",
    "Also the correlation matrix between stocks as reference."
   ]
  },
  {
   "cell_type": "code",
   "execution_count": 4,
   "metadata": {},
   "outputs": [],
   "source": [
    "def hist_return_cov_corr(price):\n",
    "    returns = (price[1:,:] / price[:-1,:])            # convert adj_close_price to daily returns\n",
    "    returns = returns[~np.isnan(returns).any(axis=1)] # remove row with nan, along the row (axis=1)\n",
    "    \n",
    "    return  np.mean(returns,axis=0)**253-1, np.cov(np.transpose(returns))*253, np.corrcoef(np.transpose(returns)) \n",
    "            # annualized mean return        # annualized covariance matrix     # correlation matrix   \n",
    "        \n",
    "def portfolio_return(w,r):\n",
    "    return np.dot(np.transpose(w),np.transpose(r))\n",
    "\n",
    "def portfolio_var(w,cov):\n",
    "    return np.dot(np.dot(np.transpose(w),cov),w)"
   ]
  },
  {
   "cell_type": "markdown",
   "metadata": {},
   "source": [
    "**Optimize** $w$ **by Scipy to:**<br>\n",
    "**1. Maximize Sharpe Ratio**<br>\n",
    "**2. Minimize Variance without short selling**<br>"
   ]
  },
  {
   "cell_type": "code",
   "execution_count": 5,
   "metadata": {},
   "outputs": [],
   "source": [
    "def max_sharpe_weight_no_ss(cov, r, rf):\n",
    "    n = len(cov)\n",
    "    w = np.ones([n])/n                      # initialize with equal weights\n",
    "    bound = [(0,1) for i in range(n)]       # weights between 0-1 if short selling is not allowed \n",
    "    constraint = ({'type':'eq', 'fun': lambda w: sum(w)-1 })   # Sum of weights = 1\n",
    "    \n",
    "    def sharpe(w, cov, r, rf):\n",
    "        sr = (portfolio_return(w,r)-rf)/portfolio_var(w,cov)\n",
    "        return 1/sr\n",
    "        \n",
    "    ans = optimize.minimize(sharpe, w, (cov,r,rf), method='SLSQP', constraints=constraint,bounds=bound)  \n",
    "    return ans.x\n",
    "\n",
    "def min_var_weight_no_ss(cov):\n",
    "    n = len(cov)\n",
    "    w = np.ones([n])/n                      # initialize with equal weights\n",
    "    bound = [(0,1) for i in range(n)]       # weights between 0-1 if short selling is not allowed \n",
    "    constraint = ({'type':'eq', 'fun': lambda w: sum(w)-1 })   # Sum of weights = 1\n",
    "    \n",
    "    # variance function of portfolio = w'*sigma*w\n",
    "    def var(w, cov):\n",
    "        return np.dot(np.dot(np.transpose(w) ,cov),w) \n",
    "\n",
    "    ans = optimize.minimize(var, w, (cov), method='SLSQP', constraints=constraint,bounds=bound)  \n",
    "    return ans.x"
   ]
  },
  {
   "cell_type": "markdown",
   "metadata": {},
   "source": [
    "**If we want to minimize variance and allow short selling, just remove the constraint in the fucntion min_var_weight_no_ss**<br><br>\n",
    "For study purpose, I introduce Langrange Multiplier here.<br>\n",
    "We are now subjected to 2 constaints only.<br>\n",
    "<br>\n",
    "$1.$ Minimize $Var(w^T r)$<br>\n",
    "$2.$ $w^T$ **1 $= 1$, &emsp;1** is column vector of 1<br>\n",
    "<br>\n",
    "They are both function of $w$, denoted as $f(w_ 1, w _2,...w _i)$ <br>\n",
    "<br>\n",
    "Since the gradient vector is perpendicular to the function, at the point the 2 functions are tangential to each other  , 2 gradient vectors must be perpendicular to each other.<br><br>\n",
    "This results <br><br>\n",
    "$Gradient [Var(w^T r)]$ = $\\lambda$ $Gradient$($w^T$ **1** - 1), for some scalar $\\lambda$ <br><br>\n",
    "more info for gradient vector: https://www.math.uic.edu/persisting_utilities/coursepages/math210/labpages/lab5<br>\n",
    "more info for Langrange Multiplier: http://tutorial.math.lamar.edu/Classes/CalcIII/LagrangeMultipliers.aspx<br>\n",
    "\n",
    "After some algebra,<br><br>\n",
    "$w =$ $\\frac{ \\Sigma^{-1}\\mathbb{1} }{ (\\Sigma^{-1}\\mathbb{1})^T \\mathbb{1}  }$"
   ]
  },
  {
   "cell_type": "code",
   "execution_count": 6,
   "metadata": {},
   "outputs": [],
   "source": [
    "def min_var_weight_LM(cov):\n",
    "    inv_cov = np.linalg.pinv(cov)\n",
    "    ones = np.ones(len(inv_cov))\n",
    "    inv_dot_ones = np.dot(inv_cov, ones)\n",
    "    return inv_dot_ones/np.dot(np.transpose(inv_dot_ones),ones)"
   ]
  },
  {
   "cell_type": "markdown",
   "metadata": {},
   "source": [
    "**Here I try US stocks from different sectors.**<br>\n",
    "**There are more to explore such as set of global indices, FX or cryptocurrency.**<br><br>\n",
    "From the result below:<br>\n",
    "If you want stability, allocate more on P&G, AT&T.<br>\n",
    "If you want higher Sharpe ratio, allocate more on Amazon and UnitedHealth.<br>"
   ]
  },
  {
   "cell_type": "code",
   "execution_count": 23,
   "metadata": {},
   "outputs": [
    {
     "name": "stdout",
     "output_type": "stream",
     "text": [
      "[*********************100%***********************]  10 of 10 completed\n"
     ]
    },
    {
     "data": {
      "text/html": [
       "<style  type=\"text/css\" >\n",
       "</style><table id=\"T_77a70048_27f8_11ea_b3b5_ac87a331a2fb\" ><thead>    <tr>        <th class=\"blank level0\" ></th>        <th class=\"col_heading level0 col0\" >min_var_weight_LM</th>        <th class=\"col_heading level0 col1\" >min_var_weight_no_ss</th>        <th class=\"col_heading level0 col2\" >max_sharpe_weight_no_ss</th>    </tr></thead><tbody>\n",
       "                <tr>\n",
       "                        <th id=\"T_77a70048_27f8_11ea_b3b5_ac87a331a2fblevel0_row0\" class=\"row_heading level0 row0\" >WMT</th>\n",
       "                        <td id=\"T_77a70048_27f8_11ea_b3b5_ac87a331a2fbrow0_col0\" class=\"data row0 col0\" >14.5%</td>\n",
       "                        <td id=\"T_77a70048_27f8_11ea_b3b5_ac87a331a2fbrow0_col1\" class=\"data row0 col1\" >14.3%</td>\n",
       "                        <td id=\"T_77a70048_27f8_11ea_b3b5_ac87a331a2fbrow0_col2\" class=\"data row0 col2\" >7.8%</td>\n",
       "            </tr>\n",
       "            <tr>\n",
       "                        <th id=\"T_77a70048_27f8_11ea_b3b5_ac87a331a2fblevel0_row1\" class=\"row_heading level0 row1\" >AMZN</th>\n",
       "                        <td id=\"T_77a70048_27f8_11ea_b3b5_ac87a331a2fbrow1_col0\" class=\"data row1 col0\" >2.9%</td>\n",
       "                        <td id=\"T_77a70048_27f8_11ea_b3b5_ac87a331a2fbrow1_col1\" class=\"data row1 col1\" >1.4%</td>\n",
       "                        <td id=\"T_77a70048_27f8_11ea_b3b5_ac87a331a2fbrow1_col2\" class=\"data row1 col2\" >18.0%</td>\n",
       "            </tr>\n",
       "            <tr>\n",
       "                        <th id=\"T_77a70048_27f8_11ea_b3b5_ac87a331a2fblevel0_row2\" class=\"row_heading level0 row2\" >T</th>\n",
       "                        <td id=\"T_77a70048_27f8_11ea_b3b5_ac87a331a2fbrow2_col0\" class=\"data row2 col0\" >22.0%</td>\n",
       "                        <td id=\"T_77a70048_27f8_11ea_b3b5_ac87a331a2fbrow2_col1\" class=\"data row2 col1\" >22.3%</td>\n",
       "                        <td id=\"T_77a70048_27f8_11ea_b3b5_ac87a331a2fbrow2_col2\" class=\"data row2 col2\" >11.6%</td>\n",
       "            </tr>\n",
       "            <tr>\n",
       "                        <th id=\"T_77a70048_27f8_11ea_b3b5_ac87a331a2fblevel0_row3\" class=\"row_heading level0 row3\" >V</th>\n",
       "                        <td id=\"T_77a70048_27f8_11ea_b3b5_ac87a331a2fbrow3_col0\" class=\"data row3 col0\" >9.8%</td>\n",
       "                        <td id=\"T_77a70048_27f8_11ea_b3b5_ac87a331a2fbrow3_col1\" class=\"data row3 col1\" >8.0%</td>\n",
       "                        <td id=\"T_77a70048_27f8_11ea_b3b5_ac87a331a2fbrow3_col2\" class=\"data row3 col2\" >8.8%</td>\n",
       "            </tr>\n",
       "            <tr>\n",
       "                        <th id=\"T_77a70048_27f8_11ea_b3b5_ac87a331a2fblevel0_row4\" class=\"row_heading level0 row4\" >TSLA</th>\n",
       "                        <td id=\"T_77a70048_27f8_11ea_b3b5_ac87a331a2fbrow4_col0\" class=\"data row4 col0\" >0.4%</td>\n",
       "                        <td id=\"T_77a70048_27f8_11ea_b3b5_ac87a331a2fbrow4_col1\" class=\"data row4 col1\" >0.4%</td>\n",
       "                        <td id=\"T_77a70048_27f8_11ea_b3b5_ac87a331a2fbrow4_col2\" class=\"data row4 col2\" >0.0%</td>\n",
       "            </tr>\n",
       "            <tr>\n",
       "                        <th id=\"T_77a70048_27f8_11ea_b3b5_ac87a331a2fblevel0_row5\" class=\"row_heading level0 row5\" >MSFT</th>\n",
       "                        <td id=\"T_77a70048_27f8_11ea_b3b5_ac87a331a2fbrow5_col0\" class=\"data row5 col0\" >-5.2%</td>\n",
       "                        <td id=\"T_77a70048_27f8_11ea_b3b5_ac87a331a2fbrow5_col1\" class=\"data row5 col1\" >0.0%</td>\n",
       "                        <td id=\"T_77a70048_27f8_11ea_b3b5_ac87a331a2fbrow5_col2\" class=\"data row5 col2\" >2.1%</td>\n",
       "            </tr>\n",
       "            <tr>\n",
       "                        <th id=\"T_77a70048_27f8_11ea_b3b5_ac87a331a2fblevel0_row6\" class=\"row_heading level0 row6\" >UNH</th>\n",
       "                        <td id=\"T_77a70048_27f8_11ea_b3b5_ac87a331a2fbrow6_col0\" class=\"data row6 col0\" >11.0%</td>\n",
       "                        <td id=\"T_77a70048_27f8_11ea_b3b5_ac87a331a2fbrow6_col1\" class=\"data row6 col1\" >10.7%</td>\n",
       "                        <td id=\"T_77a70048_27f8_11ea_b3b5_ac87a331a2fbrow6_col2\" class=\"data row6 col2\" >19.0%</td>\n",
       "            </tr>\n",
       "            <tr>\n",
       "                        <th id=\"T_77a70048_27f8_11ea_b3b5_ac87a331a2fblevel0_row7\" class=\"row_heading level0 row7\" >JPM</th>\n",
       "                        <td id=\"T_77a70048_27f8_11ea_b3b5_ac87a331a2fbrow7_col0\" class=\"data row7 col0\" >7.7%</td>\n",
       "                        <td id=\"T_77a70048_27f8_11ea_b3b5_ac87a331a2fbrow7_col1\" class=\"data row7 col1\" >7.0%</td>\n",
       "                        <td id=\"T_77a70048_27f8_11ea_b3b5_ac87a331a2fbrow7_col2\" class=\"data row7 col2\" >9.4%</td>\n",
       "            </tr>\n",
       "            <tr>\n",
       "                        <th id=\"T_77a70048_27f8_11ea_b3b5_ac87a331a2fblevel0_row8\" class=\"row_heading level0 row8\" >CAT</th>\n",
       "                        <td id=\"T_77a70048_27f8_11ea_b3b5_ac87a331a2fbrow8_col0\" class=\"data row8 col0\" >0.0%</td>\n",
       "                        <td id=\"T_77a70048_27f8_11ea_b3b5_ac87a331a2fbrow8_col1\" class=\"data row8 col1\" >0.0%</td>\n",
       "                        <td id=\"T_77a70048_27f8_11ea_b3b5_ac87a331a2fbrow8_col2\" class=\"data row8 col2\" >0.0%</td>\n",
       "            </tr>\n",
       "            <tr>\n",
       "                        <th id=\"T_77a70048_27f8_11ea_b3b5_ac87a331a2fblevel0_row9\" class=\"row_heading level0 row9\" >PG</th>\n",
       "                        <td id=\"T_77a70048_27f8_11ea_b3b5_ac87a331a2fbrow9_col0\" class=\"data row9 col0\" >36.9%</td>\n",
       "                        <td id=\"T_77a70048_27f8_11ea_b3b5_ac87a331a2fbrow9_col1\" class=\"data row9 col1\" >36.0%</td>\n",
       "                        <td id=\"T_77a70048_27f8_11ea_b3b5_ac87a331a2fbrow9_col2\" class=\"data row9 col2\" >23.4%</td>\n",
       "            </tr>\n",
       "    </tbody></table>"
      ],
      "text/plain": [
       "<pandas.io.formats.style.Styler at 0x12cdcc5c0>"
      ]
     },
     "execution_count": 23,
     "metadata": {},
     "output_type": "execute_result"
    }
   ],
   "source": [
    "# ticker          \n",
    "portfolio = ['WMT','AMZN','T','V','TSLA','MSFT','UNH','JPM','CAT','PG'] \n",
    "\n",
    "# 5 years historical prices\n",
    "px = get_price(portfolio,5)\n",
    "returns, cov, corr = hist_return_cov_corr(px)\n",
    "\n",
    "# find the weight\n",
    "rf=0.02\n",
    "min_var_w_LM = min_var_weight_LM(cov)\n",
    "min_var_w_no_ss = min_var_weight_no_ss(cov)\n",
    "max_sharpe_w_no_ss = max_sharpe_weight_no_ss(cov, returns, rf)\n",
    "\n",
    "# display all optimal weights in a dataframe\n",
    "weight_table = pd.DataFrame(data= min_var_w_LM, columns = ['min_var_weight_LM'], index = portfolio)\n",
    "weight_table['min_var_weight_no_ss'] = min_var_w_no_ss\n",
    "weight_table['max_sharpe_weight_no_ss'] = max_sharpe_w_no_ss\n",
    "weight_table.round(decimals=3)*100\n",
    "weight_table.style.format(\"{:.1%}\")"
   ]
  },
  {
   "cell_type": "markdown",
   "metadata": {},
   "source": [
    "**Plot the cummulative return in the past 5 years, if we invest according to the 3 sets of optimal weight.**<br><br>\n",
    "Clearly, max_sharpe has much greater return but more volatile.<br>\n",
    "The short selling constraint makes no big difference to allocation."
   ]
  },
  {
   "cell_type": "code",
   "execution_count": 26,
   "metadata": {},
   "outputs": [
    {
     "data": {
      "text/plain": [
       "<Figure size 648x432 with 0 Axes>"
      ]
     },
     "execution_count": 26,
     "metadata": {},
     "output_type": "execute_result"
    },
    {
     "data": {
      "image/png": "[encoded data removed]",
      "text/plain": [
       "<Figure size 432x288 with 1 Axes>"
      ]
     },
     "metadata": {
      "needs_background": "light"
     },
     "output_type": "display_data"
    },
    {
     "data": {
      "text/plain": [
       "<Figure size 648x432 with 0 Axes>"
      ]
     },
     "metadata": {},
     "output_type": "display_data"
    }
   ],
   "source": [
    "def cum_returns(price):\n",
    "    price = price[~np.isnan(price).any(axis=1)]\n",
    "    returns = (price[1:,:] / price[0,:]) - 1\n",
    "    return returns[~np.isnan(returns).any(axis=1)]\n",
    "\n",
    "cum_r = cum_returns(px)\n",
    "min_var_w_LM_r = portfolio_return(min_var_w_LM,cum_r)\n",
    "min_var_w_no_ss_r = portfolio_return(min_var_w_no_ss,cum_r)\n",
    "max_sharpe_w_no_ss_r = portfolio_return(max_sharpe_w_no_ss,cum_r)\n",
    "\n",
    "# plot cummulative return using diff weights\n",
    "plt.plot(min_var_w_LM_r, color='red', label=\"min_var\")\n",
    "plt.plot(min_var_w_no_ss_r, color='green', label=\"min_var_no_ss\")\n",
    "plt.plot(max_sharpe_w_no_ss_r, color='blue', label=\"max_sharpe\")\n",
    "plt.legend(loc=\"upper left\")\n",
    "plt.figure(figsize=(9, 6))"
   ]
  },
  {
   "cell_type": "markdown",
   "metadata": {},
   "source": [
    "**For reference, display correlation heat map.**<br><br>\n",
    "MSFT and V have the largest correlation among the stocks, and they are all positively correlated."
   ]
  },
  {
   "cell_type": "code",
   "execution_count": 27,
   "metadata": {},
   "outputs": [
    {
     "data": {
      "text/plain": [
       "<matplotlib.axes._subplots.AxesSubplot at 0x11f969978>"
      ]
     },
     "execution_count": 27,
     "metadata": {},
     "output_type": "execute_result"
    },
    {
     "data": {
      "image/png": "[encoded data removed]",
      "text/plain": [
       "<Figure size 648x432 with 2 Axes>"
      ]
     },
     "metadata": {
      "needs_background": "light"
     },
     "output_type": "display_data"
    }
   ],
   "source": [
    "plt.figure(figsize=(9, 6))\n",
    "sb.heatmap(corr, annot=True, mask=np.triu(corr),yticklabels=portfolio,xticklabels=portfolio,linewidths=.5,cmap=\"Blues\")"
   ]
  },
  {
   "cell_type": "markdown",
   "metadata": {},
   "source": [
    "**Summary**<br><br>\n",
    "There are more to discover: <br>\n",
    "1. The above code does not consider regular rebalancing, which is not the real practice. A more dynamic approach may have impacts on the result.\n",
    "2. The above portfolio consists of US stocks only, which are highly correlated. The results could be more meaningful if multi-asset classes are analyzed.\n",
    "3. Except minimize variance and maximize Sharpe ratio, there may be more appraoches. I will apply the concept of Eigen Vector in the next notebook."
   ]
  }
 ],
 "metadata": {
  "celltoolbar": "Raw Cell Format",
  "kernelspec": {
   "display_name": "Python 3",
   "language": "python",
   "name": "python3"
  },
  "language_info": {
   "codemirror_mode": {
    "name": "ipython",
    "version": 3
   },
   "file_extension": ".py",
   "mimetype": "text/x-python",
   "name": "python",
   "nbconvert_exporter": "python",
   "pygments_lexer": "ipython3",
   "version": "3.6.8"
  }
 },
 "nbformat": 4,
 "nbformat_minor": 2
}
